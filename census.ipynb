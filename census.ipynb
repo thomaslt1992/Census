{
 "cells": [
  {
   "cell_type": "code",
   "execution_count": 1,
   "metadata": {},
   "outputs": [],
   "source": [
    "import pandas as pd\n",
    "import category_encoders as ce\n",
    "from methods.preprocessing import encode_country,encode_one_hot_categories,encode_ordinal_categories, encode_binary_categories"
   ]
  },
  {
   "cell_type": "code",
   "execution_count": 6,
   "metadata": {},
   "outputs": [],
   "source": [
    "X_train = pd.read_csv('data/adult.data')\n",
    "X_train = X_train.dropna(axis=0, how='any')\n",
    "X_test = pd.read_csv('data/adult.test')\n",
    "X_test = X_test.dropna(axis=0, how='any')\n",
    "\n",
    "attributes = ['age','workclass','fnlwgt','education', 'education-num','marital-status',\n",
    "                 'occupation','relationship','race','sex','capital-gain','capital-loss','hours-per-week',\n",
    "                 'native-country','label']\n",
    "X_train.columns = attributes\n",
    "X_test.columns = attributes"
   ]
  },
  {
   "cell_type": "code",
   "execution_count": 7,
   "metadata": {},
   "outputs": [],
   "source": [
    "y_train = X_train['label']\n",
    "y_test = X_test['label']\n",
    "X_train = X_train.drop(columns=['label']).reset_index(drop=True)\n",
    "X_test = X_test.drop(columns=['label']).reset_index(drop=True)"
   ]
  },
  {
   "cell_type": "code",
   "execution_count": 8,
   "metadata": {},
   "outputs": [],
   "source": [
    "from multiprocessing.sharedctypes import Value\n",
    "import numpy as np\n",
    "from sklearn.preprocessing import OrdinalEncoder, OneHotEncoder\n",
    "\n",
    "ordinal_categories = ['education']\n",
    "one_hot_categories = ['occupation','marital-status','relationship','workclass','race']\n",
    "binary_categories = ['sex']\n",
    "\n",
    "X_train = encode_ordinal_categories(X=X_train,categories=ordinal_categories)\n",
    "X_train = encode_one_hot_categories(X=X_train,categories=one_hot_categories)\n",
    "X_train['encode_country'] = X_train['native-country'].apply(encode_country)\n",
    "X_train = X_train.drop(columns=['native-country'])\n",
    "X_train = encode_binary_categories(X_train,categories=binary_categories)\n"
   ]
  },
  {
   "cell_type": "code",
   "execution_count": 10,
   "metadata": {},
   "outputs": [],
   "source": [
    "X_test = encode_ordinal_categories(X=X_test,categories=ordinal_categories)\n",
    "X_test = encode_one_hot_categories(X=X_test,categories=one_hot_categories)\n",
    "X_test['encode_country'] = X_test['native-country'].apply(encode_country)\n",
    "X_test = X_test.drop(columns=['native-country'])\n",
    "X_test = encode_binary_categories(X_test,categories=binary_categories)"
   ]
  },
  {
   "cell_type": "markdown",
   "metadata": {},
   "source": [
    "Different type of models \n",
    "\n",
    "1. Random Forest using sklearn"
   ]
  },
  {
   "cell_type": "code",
   "execution_count": 31,
   "metadata": {},
   "outputs": [],
   "source": [
    "from sklearn.preprocessing import LabelEncoder\n",
    "le = LabelEncoder()\n",
    "y_train  = le.fit_transform(y_train)\n",
    "y_test = le.fit_transform(y_test)"
   ]
  },
  {
   "cell_type": "code",
   "execution_count": 35,
   "metadata": {},
   "outputs": [
    {
     "name": "stderr",
     "output_type": "stream",
     "text": [
      "/home/thomas/.local/lib/python3.10/site-packages/sklearn/utils/validation.py:1858: FutureWarning: Feature names only support names that are all strings. Got feature names with dtypes: ['str', 'tuple']. An error will be raised in 1.2.\n",
      "  warnings.warn(\n",
      "/home/thomas/.local/lib/python3.10/site-packages/sklearn/utils/validation.py:1858: FutureWarning: Feature names only support names that are all strings. Got feature names with dtypes: ['str', 'tuple']. An error will be raised in 1.2.\n",
      "  warnings.warn(\n",
      "/home/thomas/.local/lib/python3.10/site-packages/sklearn/utils/validation.py:1858: FutureWarning: Feature names only support names that are all strings. Got feature names with dtypes: ['str', 'tuple']. An error will be raised in 1.2.\n",
      "  warnings.warn(\n"
     ]
    },
    {
     "name": "stdout",
     "output_type": "stream",
     "text": [
      "Accuracy for the test set is 85.18 %\n"
     ]
    }
   ],
   "source": [
    "from sklearn.ensemble import RandomForestClassifier\n",
    "\n",
    "clf = RandomForestClassifier(max_depth=40)\n",
    "clf.fit(X_train,y_train)\n",
    "clf.predict(X_test)\n",
    "\n",
    "acc = np.sum(y_test == clf.predict(X_test))/len(X_test)\n",
    "print(\"Accuracy for the test set is {:.2f} %\".format(acc*100))"
   ]
  }
 ],
 "metadata": {
  "kernelspec": {
   "display_name": "Python 3.10.4 64-bit",
   "language": "python",
   "name": "python3"
  },
  "language_info": {
   "codemirror_mode": {
    "name": "ipython",
    "version": 3
   },
   "file_extension": ".py",
   "mimetype": "text/x-python",
   "name": "python",
   "nbconvert_exporter": "python",
   "pygments_lexer": "ipython3",
   "version": "3.10.4"
  },
  "orig_nbformat": 4,
  "vscode": {
   "interpreter": {
    "hash": "e7370f93d1d0cde622a1f8e1c04877d8463912d04d973331ad4851f04de6915a"
   }
  }
 },
 "nbformat": 4,
 "nbformat_minor": 2
}
