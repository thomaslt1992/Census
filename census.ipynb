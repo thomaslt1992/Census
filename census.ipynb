{
 "cells": [
  {
   "cell_type": "code",
   "execution_count": 1,
   "metadata": {},
   "outputs": [],
   "source": [
    "import pandas as pd\n",
    "import category_encoders as ce\n",
    "from methods.preprocessing import encode_country,encode_one_hot_categories,encode_ordinal_categories, encode_binary_categories"
   ]
  },
  {
   "cell_type": "code",
   "execution_count": 17,
   "metadata": {},
   "outputs": [],
   "source": [
    "X_train = pd.read_csv('data/adult.data')\n",
    "X_train = X_train.dropna(axis=0, how='any')\n",
    "X_test = pd.read_csv('data/adult.test')\n",
    "X_test = X_test.dropna(axis=0, how='any')\n",
    "\n",
    "attributes = ['age','workclass','fnlwgt','education', 'education-num','marital-status',\n",
    "                 'occupation','relationship','race','sex','capital-gain','capital-loss','hours-per-week',\n",
    "                 'native-country','label']\n",
    "X_train.columns = attributes\n",
    "X_test.columns = attributes"
   ]
  },
  {
   "cell_type": "code",
   "execution_count": 18,
   "metadata": {},
   "outputs": [],
   "source": [
    "y_train = X_train['label']\n",
    "y_test = X_test['label']\n",
    "X_train = X_train.drop(columns=['label']).reset_index(drop=True)\n",
    "X_test = X_test.drop(columns=['label']).reset_index(drop=True)"
   ]
  },
  {
   "cell_type": "code",
   "execution_count": 19,
   "metadata": {},
   "outputs": [
    {
     "data": {
      "text/plain": [
       "Index(['age', 'workclass', 'fnlwgt', 'education', 'education-num',\n",
       "       'marital-status', 'occupation', 'relationship', 'race', 'sex',\n",
       "       'capital-gain', 'capital-loss', 'hours-per-week', 'native-country'],\n",
       "      dtype='object')"
      ]
     },
     "execution_count": 19,
     "metadata": {},
     "output_type": "execute_result"
    }
   ],
   "source": [
    "X_train.columns"
   ]
  },
  {
   "cell_type": "code",
   "execution_count": 20,
   "metadata": {},
   "outputs": [],
   "source": [
    "from multiprocessing.sharedctypes import Value\n",
    "import numpy as np\n",
    "from sklearn.preprocessing import OrdinalEncoder, OneHotEncoder\n",
    "\n",
    "ordinal_categories = ['education']\n",
    "one_hot_categories = ['occupation','marital-status','relationship','workclass']\n",
    "binary_categories = ['sex']\n",
    "\n",
    "X_train = encode_ordinal_categories(X=X_train,categories=ordinal_categories)\n",
    "X_train = encode_one_hot_categories(X=X_train,categories=one_hot_categories)\n",
    "X_train['encode_country'] = X_train['native-country'].apply(encode_country)\n",
    "X_train = encode_binary_categories(X_train,categories=binary_categories)\n"
   ]
  },
  {
   "cell_type": "code",
   "execution_count": 15,
   "metadata": {},
   "outputs": [
    {
     "data": {
      "text/plain": [
       "Index([                      'age',                 'workclass',\n",
       "                          'fnlwgt',             'education-num',\n",
       "                            'race',                       'sex',\n",
       "                    'capital-gain',              'capital-loss',\n",
       "                  'hours-per-week',            'native-country',\n",
       "               'education_encoded',                     (' ?',),\n",
       "                (' Adm-clerical',),          (' Armed-Forces',),\n",
       "                (' Craft-repair',),       (' Exec-managerial',),\n",
       "             (' Farming-fishing',),     (' Handlers-cleaners',),\n",
       "           (' Machine-op-inspct',),         (' Other-service',),\n",
       "             (' Priv-house-serv',),        (' Prof-specialty',),\n",
       "             (' Protective-serv',),                 (' Sales',),\n",
       "                (' Tech-support',),      (' Transport-moving',),\n",
       "                    (' Divorced',),     (' Married-AF-spouse',),\n",
       "          (' Married-civ-spouse',), (' Married-spouse-absent',),\n",
       "               (' Never-married',),             (' Separated',),\n",
       "                     (' Widowed',),               (' Husband',),\n",
       "               (' Not-in-family',),        (' Other-relative',),\n",
       "                   (' Own-child',),             (' Unmarried',),\n",
       "                        (' Wife',),            'encode_country'],\n",
       "      dtype='object')"
      ]
     },
     "execution_count": 15,
     "metadata": {},
     "output_type": "execute_result"
    }
   ],
   "source": [
    "\n",
    "\n",
    "X_train.columns"
   ]
  },
  {
   "cell_type": "code",
   "execution_count": null,
   "metadata": {},
   "outputs": [],
   "source": [
    "from sklearn.preprocessing import LabelEncoder\n",
    "\n",
    "le = LabelEncoder()\n",
    "X_train['sex']=le.fit_transform(X_train['sex'])\n"
   ]
  },
  {
   "cell_type": "code",
   "execution_count": null,
   "metadata": {},
   "outputs": [],
   "source": [
    "from base64 import encode\n",
    "from methods.preprocessing import encode_binary\n",
    "\n",
    "X_train['sex'] = encode_binary(X_train['sex'], 'Male')"
   ]
  },
  {
   "cell_type": "code",
   "execution_count": null,
   "metadata": {},
   "outputs": [],
   "source": [
    "X_train['sex']"
   ]
  },
  {
   "cell_type": "code",
   "execution_count": null,
   "metadata": {},
   "outputs": [],
   "source": [
    "X_train['sex'].describe()"
   ]
  },
  {
   "cell_type": "code",
   "execution_count": null,
   "metadata": {},
   "outputs": [],
   "source": [
    "def preprocess_dataset(X=X_train):\n",
    "\n",
    "\n",
    "\n",
    "\n",
    "\n",
    "    return X_train"
   ]
  },
  {
   "cell_type": "code",
   "execution_count": null,
   "metadata": {},
   "outputs": [],
   "source": [
    "import pandas as pd\n",
    "from sklearn.preprocessing import OneHotEncoder\n",
    "\n",
    "colors_df = pd.DataFrame(data=[['red'],['blue'],['green'],['blue']], columns=['color'])\n",
    "print('Before One Hot Encoding:')\n",
    "display(colors_df)\n",
    "\n",
    "one_hot_encoder = OneHotEncoder(sparse=False)\n",
    "one_hot_encoder.fit(colors_df)\n",
    "\n",
    "colors_df_encoded = one_hot_encoder.transform(colors_df)\n",
    "colors_df_encoded = pd.DataFrame(data=colors_df_encoded, columns=one_hot_encoder.categories_)\n",
    "print('\\nAfter One Hot Encoding:')\n",
    "display(colors_df_encoded)"
   ]
  },
  {
   "cell_type": "code",
   "execution_count": null,
   "metadata": {},
   "outputs": [],
   "source": [
    "m_ar = np.asarray(X_train['education'])\n",
    "m_ar = m_ar.reshape(1,-1)\n",
    "m_ar\n",
    "ord_enc.fit(m_ar)"
   ]
  },
  {
   "cell_type": "code",
   "execution_count": null,
   "metadata": {},
   "outputs": [],
   "source": [
    "import category_encoders as ce\n",
    "\n",
    "enc = ce.OrdinalEncoder(cols=['education'])\n",
    "enc.fit_transform(X_train['education'])\n"
   ]
  },
  {
   "cell_type": "code",
   "execution_count": null,
   "metadata": {},
   "outputs": [],
   "source": [
    "from sklearn.preprocessing import OrdinalEncoder\n",
    "enc = OrdinalEncoder(categories=[['first','second','third','forth']])\n",
    "X = [['third'], ['second'], ['first']]\n",
    "enc.fit(X)\n",
    "print(enc.transform([['second'], ['first'], ['third'],['forth']]))"
   ]
  },
  {
   "cell_type": "code",
   "execution_count": null,
   "metadata": {},
   "outputs": [],
   "source": [
    "X"
   ]
  }
 ],
 "metadata": {
  "kernelspec": {
   "display_name": "Python 3.10.4 64-bit",
   "language": "python",
   "name": "python3"
  },
  "language_info": {
   "codemirror_mode": {
    "name": "ipython",
    "version": 3
   },
   "file_extension": ".py",
   "mimetype": "text/x-python",
   "name": "python",
   "nbconvert_exporter": "python",
   "pygments_lexer": "ipython3",
   "version": "3.10.4"
  },
  "orig_nbformat": 4,
  "vscode": {
   "interpreter": {
    "hash": "e7370f93d1d0cde622a1f8e1c04877d8463912d04d973331ad4851f04de6915a"
   }
  }
 },
 "nbformat": 4,
 "nbformat_minor": 2
}
